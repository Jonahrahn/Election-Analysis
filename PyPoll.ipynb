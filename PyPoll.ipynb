{
 "cells": [
  {
   "cell_type": "code",
   "execution_count": 15,
   "metadata": {},
   "outputs": [
    {
     "name": "stdout",
     "output_type": "stream",
     "text": [
      "\n",
      "Election Results\n",
      "-------------------------\n",
      "Total Votes: 369,711\n",
      "-------------------------\n",
      "Charles Casper Stockham: 23.0% (85,213)\n",
      "\n",
      "Diana DeGette: 73.8% (272,892)\n",
      "\n",
      "Raymon Anthony Doane: 3.1% (11,606)\n",
      "\n"
     ]
    }
   ],
   "source": [
    "#The imports we need to retrieve\n",
    "import csv\n",
    "import os\n",
    "\n",
    "#The data we need to retrieve \n",
    "\n",
    "file_to_load = os.path.join(\"election_results.csv\")\n",
    "file_to_save = os.path.join(\"analysis\", \"election_analysis.txt\")\n",
    "election_data = open(file_to_load,'r')\n",
    "total_votes = 0\n",
    "candidate_options =[]\n",
    "candidate_votes = {}\n",
    "winning_candidate = \"\"\n",
    "winning_count = 0\n",
    "winning_percentage = 0\n",
    "\n",
    "\n",
    "#1. The total number of votes cast\n",
    "\n",
    "with open(file_to_load) as election_data:\n",
    "        file_reader = csv.reader(election_data)\n",
    "        # Print headers \n",
    "        headers = next(file_reader)\n",
    "        #print(headers)\n",
    "        for row in file_reader:\n",
    "                total_votes += 1\n",
    "                candidate_name = row[2]\n",
    "\n",
    "#2. A Complete list of candidates of votes each candidate won\n",
    "\n",
    "                if candidate_name not in candidate_options:\n",
    "                        candidate_options.append(candidate_name)\n",
    "                        candidate_votes[candidate_name] = 0\n",
    "                candidate_votes[candidate_name] += 1\n",
    "\n",
    "#Save the results to the text file\n",
    "with open(file_to_save,\"w\") as txt_file:\n",
    "    election_results = (\n",
    "        f\"\\nElection Results\\n\"\n",
    "        f\"-------------------------\\n\"\n",
    "        f\"Total Votes: {total_votes:,}\\n\"\n",
    "        f\"-------------------------\\n\")\n",
    "    print(election_results, end=\"\")\n",
    "    # Save the final vote count to the text file.\n",
    "    txt_file.write(election_results)\n",
    "    \n",
    "##print(candidate_votes)\n",
    "\n",
    "    #3. The percentage of votes each candidate won\n",
    "\n",
    "    for candidate_name in candidate_votes:\n",
    "        # Retrieve vote count of a candidate.\n",
    "        votes = candidate_votes[candidate_name]\n",
    "        # Calculate the percentage of votes.\n",
    "        vote_percentage = float(votes) / float(total_votes) * 100\n",
    "        #Print the candidate name and percentage of votes.\n",
    "        ##print(f\"{candidate_name}: received {format(vote_percentage, '.2f')}% of the vote.\")\n",
    "        candidate_results = (f\"{candidate_name}: {vote_percentage:.1f}% ({votes:,})\\n\")\n",
    "        print(candidate_results)\n",
    "        #  Save the candidate results to our text file.\n",
    "        txt_file.write(candidate_results)\n",
    "\n",
    "    #4. The total number of votes each candiate won\n",
    "        if (votes > winning_count) and (vote_percentage > winning_percentage):\n",
    "            # If true then set winning_count = votes and winning_percent = vote_percentage.\n",
    "            winning_count = votes\n",
    "            winning_percentage = vote_percentage\n",
    "            # Set the winning_candidate equal to the candidate's name.\n",
    "            winning_candidate = candidate_name\n",
    "        ##print(f\"{candidate_name}: {vote_percentage:.1f}% ({votes:,})\\n\")\n",
    "\n",
    "    #5. The winner of the election based on popular vote\n",
    "        winning_candidate_summary = (\n",
    "            f\"-------------------------\\n\"\n",
    "            f\"Winner: {winning_candidate}\\n\"\n",
    "            f\"Winning Vote Count: {winning_count:,}\\n\"\n",
    "            f\"Winning Percentage: {winning_percentage:.1f}%\\n\"\n",
    "            f\"-------------------------\\n\")\n",
    "    txt_file.write(winning_candidate_summary)"
   ]
  },
  {
   "cell_type": "code",
   "execution_count": 16,
   "metadata": {},
   "outputs": [
    {
     "ename": "ValueError",
     "evalue": "I/O operation on closed file.",
     "output_type": "error",
     "traceback": [
      "\u001b[0;31m---------------------------------------------------------------------------\u001b[0m",
      "\u001b[0;31mValueError\u001b[0m                                Traceback (most recent call last)",
      "\u001b[0;32m/var/folders/gh/7thdl1k961n2zryl6w1p5n_m0000gn/T/ipykernel_92912/2112263033.py\u001b[0m in \u001b[0;36m<module>\u001b[0;34m\u001b[0m\n\u001b[0;32m----> 1\u001b[0;31m \u001b[0moutfile\u001b[0m\u001b[0;34m.\u001b[0m\u001b[0mwrite\u001b[0m\u001b[0;34m(\u001b[0m\u001b[0;34m\"Counties in the election\\n\"\u001b[0m\u001b[0;34m)\u001b[0m\u001b[0;34m\u001b[0m\u001b[0;34m\u001b[0m\u001b[0m\n\u001b[0m\u001b[1;32m      2\u001b[0m \u001b[0moutfile\u001b[0m\u001b[0;34m.\u001b[0m\u001b[0mwrite\u001b[0m\u001b[0;34m(\u001b[0m\u001b[0;34m\"--------------------\\n\"\u001b[0m\u001b[0;34m)\u001b[0m\u001b[0;34m\u001b[0m\u001b[0;34m\u001b[0m\u001b[0m\n\u001b[1;32m      3\u001b[0m \u001b[0moutfile\u001b[0m\u001b[0;34m.\u001b[0m\u001b[0mwrite\u001b[0m\u001b[0;34m(\u001b[0m\u001b[0;34m\"Arapahoe\\n\"\u001b[0m\u001b[0;34m)\u001b[0m\u001b[0;34m\u001b[0m\u001b[0;34m\u001b[0m\u001b[0m\n\u001b[1;32m      4\u001b[0m \u001b[0moutfile\u001b[0m\u001b[0;34m.\u001b[0m\u001b[0mwrite\u001b[0m\u001b[0;34m(\u001b[0m\u001b[0;34m\"Denver\\n\"\u001b[0m\u001b[0;34m)\u001b[0m\u001b[0;34m\u001b[0m\u001b[0;34m\u001b[0m\u001b[0m\n\u001b[1;32m      5\u001b[0m \u001b[0moutfile\u001b[0m\u001b[0;34m.\u001b[0m\u001b[0mwrite\u001b[0m\u001b[0;34m(\u001b[0m\u001b[0;34m\"Jefferson\\n\"\u001b[0m\u001b[0;34m)\u001b[0m\u001b[0;34m\u001b[0m\u001b[0;34m\u001b[0m\u001b[0m\n",
      "\u001b[0;31mValueError\u001b[0m: I/O operation on closed file."
     ]
    }
   ],
   "source": [
    "\n",
    "outfile.write(\"Counties in the election\\n\")\n",
    "outfile.write(\"--------------------\\n\")\n",
    "outfile.write(\"Arapahoe\\n\")\n",
    "outfile.write(\"Denver\\n\")\n",
    "outfile.write(\"Jefferson\\n\")\n",
    "\n",
    "\n",
    "outfile.close()\n",
    "election_data.close()"
   ]
  }
 ],
 "metadata": {
  "interpreter": {
   "hash": "4ac52be321d9b6ed06dcd91e3cc7422d205bf1efc586c117c3ec579a4e2e9222"
  },
  "kernelspec": {
   "display_name": "Python 3.8.8 64-bit ('base': conda)",
   "name": "python3"
  },
  "language_info": {
   "codemirror_mode": {
    "name": "ipython",
    "version": 3
   },
   "file_extension": ".py",
   "mimetype": "text/x-python",
   "name": "python",
   "nbconvert_exporter": "python",
   "pygments_lexer": "ipython3",
   "version": "3.8.8"
  },
  "orig_nbformat": 4
 },
 "nbformat": 4,
 "nbformat_minor": 2
}
